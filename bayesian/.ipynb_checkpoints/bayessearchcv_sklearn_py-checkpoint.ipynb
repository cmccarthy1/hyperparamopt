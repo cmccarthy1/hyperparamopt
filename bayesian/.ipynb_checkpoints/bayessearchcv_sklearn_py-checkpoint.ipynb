{
 "cells": [
  {
   "cell_type": "markdown",
   "metadata": {},
   "source": [
    "# Sci-kit Learn's version of Bayesian Search of hyper params\n",
    "\n",
    "## Python implementation\n",
    "\n",
    "Info: https://scikit-optimize.github.io/stable/modules/generated/skopt.BayesSearchCV.html"
   ]
  },
  {
   "cell_type": "markdown",
   "metadata": {},
   "source": [
    "### Import"
   ]
  },
  {
   "cell_type": "code",
   "execution_count": 1,
   "metadata": {},
   "outputs": [],
   "source": [
    "from skopt import BayesSearchCV\n",
    "from skopt.space import Real, Categorical, Integer    # hyper params fall into these types\n",
    "from sklearn.datasets import load_iris\n",
    "from sklearn.svm import SVC\n",
    "from sklearn.model_selection import train_test_split"
   ]
  },
  {
   "cell_type": "markdown",
   "metadata": {},
   "source": [
    "### Data"
   ]
  },
  {
   "cell_type": "code",
   "execution_count": 2,
   "metadata": {},
   "outputs": [],
   "source": [
    "X, y = load_iris(True)\n",
    "X_train, X_test, y_train, y_test = train_test_split(X, y, train_size=0.75, random_state=0)"
   ]
  },
  {
   "cell_type": "markdown",
   "metadata": {},
   "source": [
    "### Optimized model"
   ]
  },
  {
   "cell_type": "code",
   "execution_count": 3,
   "metadata": {},
   "outputs": [],
   "source": [
    "hp = {'C': Real(1e-6, 1e+6, prior='log-uniform'),        # log-uniform: understand as search over p = exp(x) by varying x\n",
    "      'gamma': Real(1e-6, 1e+1, prior='log-uniform'),\n",
    "      'degree': Integer(1,8),\n",
    "      'kernel': Categorical(['linear', 'poly', 'rbf'])}\n",
    "\n",
    "opt = BayesSearchCV(SVC(), hp, n_iter=32, random_state=0)"
   ]
  },
  {
   "cell_type": "markdown",
   "metadata": {},
   "source": [
    "### Train model"
   ]
  },
  {
   "cell_type": "code",
   "execution_count": 4,
   "metadata": {},
   "outputs": [
    {
     "name": "stderr",
     "output_type": "stream",
     "text": [
      "C:\\Users\\dmorgan1\\AppData\\Local\\Continuum\\anaconda3\\envs\\jupyterenv\\lib\\site-packages\\skopt\\optimizer\\optimizer.py:409: UserWarning: The objective has been evaluated at this point before.\n",
      "  warnings.warn(\"The objective has been evaluated \"\n",
      "C:\\Users\\dmorgan1\\AppData\\Local\\Continuum\\anaconda3\\envs\\jupyterenv\\lib\\site-packages\\skopt\\optimizer\\optimizer.py:409: UserWarning: The objective has been evaluated at this point before.\n",
      "  warnings.warn(\"The objective has been evaluated \"\n"
     ]
    },
    {
     "data": {
      "text/plain": [
       "BayesSearchCV(cv=None, error_score='raise',\n",
       "              estimator=SVC(C=1.0, break_ties=False, cache_size=200,\n",
       "                            class_weight=None, coef0=0.0,\n",
       "                            decision_function_shape='ovr', degree=3,\n",
       "                            gamma='scale', kernel='rbf', max_iter=-1,\n",
       "                            probability=False, random_state=None,\n",
       "                            shrinking=True, tol=0.001, verbose=False),\n",
       "              fit_params=None, iid=True, n_iter=32, n_jobs=1, n_points=1,\n",
       "              optimizer_kwargs=No...\n",
       "              refit=True, return_train_score=False, scoring=None,\n",
       "              search_spaces={'C': Real(low=1e-06, high=1000000.0, prior='log-uniform', transform='identity'),\n",
       "                             'degree': Integer(low=1, high=8, prior='uniform', transform='identity'),\n",
       "                             'gamma': Real(low=1e-06, high=10.0, prior='log-uniform', transform='identity'),\n",
       "                             'kernel': Categorical(categories=('linear', 'poly', 'rbf'), prior=None)},\n",
       "              verbose=0)"
      ]
     },
     "execution_count": 4,
     "metadata": {},
     "output_type": "execute_result"
    }
   ],
   "source": [
    "opt.fit(X_train, y_train)  # model can be saved and used for predictions"
   ]
  },
  {
   "cell_type": "markdown",
   "metadata": {},
   "source": [
    "### Test model"
   ]
  },
  {
   "cell_type": "code",
   "execution_count": 5,
   "metadata": {},
   "outputs": [
    {
     "name": "stdout",
     "output_type": "stream",
     "text": [
      "0.9736842105263158\n"
     ]
    }
   ],
   "source": [
    "print(opt.score(X_test, y_test))"
   ]
  },
  {
   "cell_type": "markdown",
   "metadata": {},
   "source": [
    "---"
   ]
  }
 ],
 "metadata": {
  "kernelspec": {
   "display_name": "Python 3",
   "language": "python",
   "name": "python3"
  },
  "language_info": {
   "codemirror_mode": {
    "name": "ipython",
    "version": 3
   },
   "file_extension": ".py",
   "mimetype": "text/x-python",
   "name": "python",
   "nbconvert_exporter": "python",
   "pygments_lexer": "ipython3",
   "version": "3.7.6"
  }
 },
 "nbformat": 4,
 "nbformat_minor": 4
}
