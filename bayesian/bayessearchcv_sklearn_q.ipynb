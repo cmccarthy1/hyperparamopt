{
 "cells": [
  {
   "cell_type": "markdown",
   "metadata": {},
   "source": [
    "# Sci-kit Learn's version of Bayesian Search of hyper params\n",
    "## kdb+/q implementation\n",
    "\n",
    "Info: https://scikit-optimize.github.io/stable/modules/generated/skopt.BayesSearchCV.html"
   ]
  },
  {
   "cell_type": "code",
   "execution_count": null,
   "metadata": {},
   "outputs": [],
   "source": [
    "// q imports\n",
    "\\l ml/ml.q\n",
    ".ml.loadfile`:init.q\n",
    "\n",
    "// python import\n",
    "BayesSearchCV:.p.import[`skopt]`:BayesSearchCV\n",
    "re :.p.import[`skopt.space]`:Real\n",
    "cat:.p.import[`skopt.space]`:Categorical\n",
    "int:.p.import[`skopt.space]`:Integer\n",
    "svc:.p.import[`sklearn.svm]`:SVC\n",
    "\n",
    "// example dataset\n",
    "\\S 42\n",
    "split_data:.ml.traintestsplit[;;.25]. data:.p.import[`sklearn.datasets;`:load_iris;1b]`\n",
    "\n",
    "// hyperparams\n",
    "hp:`C`gamma`degree`kernel!\n",
    "  (re[.000001;1000000;`prior pykw\"log-uniform\"]`;re[.000001;10;`prior pykw\"log-uniform\"]`;int[1;8]`;cat[`linear`poly`rbf]`)\n",
    "\n",
    "// optimizer\n",
    "opt:BayesSearchCV[svc[];hp;`n_iter pykw 32;`random_state pykw 42]\n",
    "best:opt[`:fit][split_data`xtrain;split_data`ytrain];\n",
    "\n",
    "// best model\n",
    "-1\"Best model from search:\";\n",
    "print best`:best_estimator_\n",
    "\n",
    "// test score\n",
    "-1\"\\nTesting score:\";\n",
    "show opt[`:score][split_data`xtest;split_data`ytest]`"
   ]
  },
  {
   "cell_type": "code",
   "execution_count": 1,
   "metadata": {},
   "outputs": [],
   "source": [
    "// import iris dataset from sklearn\n",
    "iris:.p.import[`sklearn.datasets][`:load_iris][0]`\n",
    "X:iris`data\n",
    "y:iris`target"
   ]
  },
  {
   "cell_type": "code",
   "execution_count": 2,
   "metadata": {},
   "outputs": [],
   "source": [
    "// import required Python libraries\n",
    "BayesSearchCV:.p.import[`skopt]`:BayesSearchCV\n",
    "re :.p.import[`skopt.space]`:Real\n",
    "cat:.p.import[`skopt.space]`:Categorical\n",
    "int:.p.import[`skopt.space]`:Integer\n",
    "svc:.p.import[`sklearn.svm]`:SVC"
   ]
  },
  {
   "cell_type": "code",
   "execution_count": 3,
   "metadata": {},
   "outputs": [],
   "source": [
    "// set hyperparameter space\n",
    "hp:`C`gamma`degree`kernel!\n",
    "  (re[.000001;1000000;`prior pykw\"log-uniform\"]`;\n",
    "   re[.000001;10;`prior pykw\"log-uniform\"]`;int[1;8]`;\n",
    "   cat[`linear`poly`rbf]`)"
   ]
  },
  {
   "cell_type": "code",
   "execution_count": 4,
   "metadata": {},
   "outputs": [],
   "source": [
    "// initialize model\n",
    "mdl:BayesSearchCV[svc[];hp;`n_iter pykw 32;`random_state pykw 42]"
   ]
  },
  {
   "cell_type": "code",
   "execution_count": 5,
   "metadata": {},
   "outputs": [],
   "source": [
    "// find best parameters\n",
    "best:mdl[`:fit][X;y];"
   ]
  },
  {
   "cell_type": "code",
   "execution_count": 9,
   "metadata": {},
   "outputs": [
    {
     "data": {
      "text/plain": [
       "C     | 1.262435\r\n",
       "degree| 2\r\n",
       "gamma | 2.101785e-005\r\n",
       "kernel| \"linear\"\r\n"
      ]
     },
     "execution_count": 9,
     "metadata": {},
     "output_type": "execute_result"
    }
   ],
   "source": [
    "best[`:best_params_]`"
   ]
  },
  {
   "cell_type": "markdown",
   "metadata": {},
   "source": [
    "---"
   ]
  }
 ],
 "metadata": {
  "kernelspec": {
   "display_name": "Q (kdb+)",
   "language": "q",
   "name": "qpk"
  },
  "language_info": {
   "file_extension": ".q",
   "mimetype": "text/x-q",
   "name": "q",
   "version": "3.6.0"
  }
 },
 "nbformat": 4,
 "nbformat_minor": 4
}
