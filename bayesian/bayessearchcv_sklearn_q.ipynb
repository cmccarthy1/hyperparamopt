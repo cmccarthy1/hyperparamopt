{
 "cells": [
  {
   "cell_type": "markdown",
   "metadata": {},
   "source": [
    "# Sci-kit Learn's version of Bayesian Search of hyper params\n",
    "## kdb+/q implementation\n",
    "\n",
    "Info: https://scikit-optimize.github.io/stable/modules/generated/skopt.BayesSearchCV.html"
   ]
  },
  {
   "cell_type": "code",
   "execution_count": 1,
   "metadata": {},
   "outputs": [
    {
     "name": "stdout",
     "output_type": "stream",
     "text": [
      "Best model from search:\r\n",
      "SVC(C=0.23034235063670974, break_ties=False, cache_size=200, class_weight=None,\n",
      "    coef0=0.0, decision_function_shape='ovr', degree=8, gamma=1e-06,\n",
      "    kernel='linear', max_iter=-1, probability=False, random_state=None,\n",
      "    shrinking=True, tol=0.001, verbose=False)\n",
      "\n",
      "Testing score:\r\n",
      "0.9473684\r\n"
     ]
    }
   ],
   "source": [
    "// q imports\n",
    "\\l ml/ml.q\n",
    ".ml.loadfile`:init.q\n",
    "\n",
    "// python import\n",
    "BayesSearchCV:.p.import[`skopt]`:BayesSearchCV\n",
    "re :.p.import[`skopt.space]`:Real\n",
    "cat:.p.import[`skopt.space]`:Categorical\n",
    "int:.p.import[`skopt.space]`:Integer\n",
    "svc:.p.import[`sklearn.svm]`:SVC\n",
    "\n",
    "// example dataset\n",
    "\\S 42\n",
    "split_data:.ml.traintestsplit[;;.25]. data:.p.import[`sklearn.datasets;`:load_iris;1b]`\n",
    "\n",
    "// hyperparams\n",
    "hp:`C`gamma`degree`kernel!\n",
    "  (re[.000001;1000000;`prior pykw\"log-uniform\"]`;re[.000001;10;`prior pykw\"log-uniform\"]`;int[1;8]`;cat[`linear`poly`rbf]`)\n",
    "\n",
    "// optimizer\n",
    "opt:BayesSearchCV[svc[];hp;`n_iter pykw 32;`random_state pykw 42]\n",
    "best:opt[`:fit][split_data`xtrain;split_data`ytrain];\n",
    "\n",
    "// best model\n",
    "-1\"Best model from search:\";\n",
    "print best`:best_estimator_\n",
    "\n",
    "// test score\n",
    "-1\"\\nTesting score:\";\n",
    "show opt[`:score][split_data`xtest;split_data`ytest]`"
   ]
  },
  {
   "cell_type": "markdown",
   "metadata": {},
   "source": [
    "---"
   ]
  }
 ],
 "metadata": {
  "kernelspec": {
   "display_name": "Q (kdb+)",
   "language": "q",
   "name": "qpk"
  },
  "language_info": {
   "file_extension": ".q",
   "mimetype": "text/x-q",
   "name": "q",
   "version": "3.6.0"
  }
 },
 "nbformat": 4,
 "nbformat_minor": 4
}
