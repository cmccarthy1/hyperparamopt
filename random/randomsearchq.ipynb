{
 "cells": [
  {
   "cell_type": "markdown",
   "metadata": {},
   "source": [
    "### Python example to work towards \n",
    "\n",
    "Parameters:\n",
    "- Average: True, False\n",
    "- L1 Ratio: uniform distribution from 0 to 1\n",
    "- Alpha: loguniform distribution from 0.0001 to 1.0\n",
    "\n",
    "Iterations: 20\n",
    "\n",
    "CV: 5"
   ]
  },
  {
   "cell_type": "markdown",
   "metadata": {},
   "source": [
    "### Max samples for 0.95 success rate\n",
    "\n",
    "$1-(1-0.05)^n>0.95$\n",
    "\n",
    "$n>59$"
   ]
  },
  {
   "cell_type": "markdown",
   "metadata": {},
   "source": [
    "### Hyper parameter generation"
   ]
  },
  {
   "cell_type": "code",
   "execution_count": 1,
   "metadata": {},
   "outputs": [
    {
     "data": {
      "text/plain": [
       "average | 0         1         1         0         0         1         0      ..\r\n",
       "l1_ratio| 0.5294808 0.6916099 0.2296615 0.6919531 0.4707883 0.6346716 0.96723..\r\n",
       "alpha   | 1.901747  1.791526  1.153245  2.496767  2.467202  2.170704  1.47262..\r\n"
      ]
     },
     "execution_count": 1,
     "metadata": {},
     "output_type": "execute_result"
    }
   ],
   "source": [
    "// generate n parameters for search\n",
    "/* sz  = number of parameters to generate\n",
    "/* lo = minimum possible value, can be `(::)` for numbers between 0 and hi, booleans or symbols\n",
    "/* hi = maximum possible value or list of symbols to choose from\n",
    "/* lg = boolean indicating if values should be pulled from a log uniform distribution\n",
    "/--- need to do neg[n]?\n",
    "random_hp_gen:{[sz;lo;hi;lg]\n",
    "  // why can't I do if[lg;exp]? --used for log uniform variables\n",
    "  $[lg;exp;]$[lo~(::);\n",
    "              // if boolean or symbols\n",
    "              sz?hi;\n",
    "              // numerical range\n",
    "              lo+sz?hi-lo]}\n",
    "\n",
    "// example\n",
    "`average`l1_ratio`alpha!random_hp_gen[60].'((::;0b;0b);(0.;1.;0b);(.0001;1.;1b))"
   ]
  },
  {
   "cell_type": "code",
   "execution_count": 2,
   "metadata": {},
   "outputs": [
    {
     "data": {
      "text/plain": [
       "1.009152 2.717217\r\n"
      ]
     },
     "execution_count": 2,
     "metadata": {},
     "output_type": "execute_result"
    },
    {
     "data": {
      "text/plain": [
       "1.015275 2.670473\r\n"
      ]
     },
     "execution_count": 2,
     "metadata": {},
     "output_type": "execute_result"
    },
    {
     "data": {
      "text/plain": [
       "1.001698 2.686487\r\n"
      ]
     },
     "execution_count": 2,
     "metadata": {},
     "output_type": "execute_result"
    },
    {
     "data": {
      "text/plain": [
       "0.01000503 0.9926465\r\n"
      ]
     },
     "execution_count": 2,
     "metadata": {},
     "output_type": "execute_result"
    }
   ],
   "source": [
    "low:0.0001\n",
    "high:1.\n",
    "size:100\n",
    "\n",
    "// options suggested for how to select random variables from log-uniform dist\n",
    "// https://stackoverflow.com/questions/43977717/how-do-i-generate-log-uniform-distribution-in-python\n",
    "(min;max)@\\:random_hp_gen[size;low;high;1b]\n",
    "(min;max)@\\:exp .p.import[`numpy.random][`:uniform][low;high;size]`\n",
    "(min;max)@\\:.p.import[`scipy.stats][`:reciprocal][exp low;exp high][`:rvs][size]`\n",
    "\n",
    "// how currently done in examples of random\n",
    "(min;max)@\\:.p.import[`scipy.stats][`:loguniform][`:rvs][.01;1.;`size pykw 1000]`"
   ]
  },
  {
   "cell_type": "code",
   "execution_count": 3,
   "metadata": {},
   "outputs": [
    {
     "data": {
      "image/png": "[encoded data removed]",
      "text/plain": [
       "<Figure size 460.8x345.6 with 1 Axes>"
      ]
     },
     "metadata": {},
     "output_type": "display_data"
    }
   ],
   "source": [
    "// comparison of different methods\n",
    "plt:.p.import`matplotlib.pyplot\n",
    "plt[`:scatter][til 100;desc exp .0001+100?1.-.0001];\n",
    "plt[`:scatter][til 100;desc .p.import[`scipy.stats][`:loguniform][.0001;1.][`:rvs][100]`];\n",
    "plt[`:scatter][til 100;desc .p.import[`scipy.stats][`:reciprocal][.0001;1.][`:rvs][100]`];\n",
    "plt[`:show][];"
   ]
  },
  {
   "cell_type": "code",
   "execution_count": 4,
   "metadata": {},
   "outputs": [],
   "source": [
    "// q loguniform\n",
    "loguniform:{[low;high;size]exp low+size?high-low}"
   ]
  },
  {
   "cell_type": "code",
   "execution_count": 5,
   "metadata": {},
   "outputs": [],
   "source": [
    "// checks - a>0 and b>a --function should have these somewhere?"
   ]
  },
  {
   "cell_type": "markdown",
   "metadata": {},
   "source": [
    "---"
   ]
  }
 ],
 "metadata": {
  "kernelspec": {
   "display_name": "Q (kdb+)",
   "language": "q",
   "name": "qpk"
  },
  "language_info": {
   "file_extension": ".q",
   "mimetype": "text/x-q",
   "name": "q",
   "version": "3.6.0"
  }
 },
 "nbformat": 4,
 "nbformat_minor": 4
}
