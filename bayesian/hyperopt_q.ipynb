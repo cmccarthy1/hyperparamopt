{
 "cells": [
  {
   "cell_type": "markdown",
   "metadata": {},
   "source": [
    "# HyperOpt\n",
    "## Python implementation\n",
    "\n",
    "Info: https://github.com/hyperopt/hyperopt"
   ]
  },
  {
   "cell_type": "markdown",
   "metadata": {},
   "source": [
    "### Data"
   ]
  },
  {
   "cell_type": "code",
   "execution_count": 1,
   "metadata": {},
   "outputs": [],
   "source": [
    "iris:.p.import[`sklearn.datasets][`:load_iris][0]`\n",
    "X:iris`data\n",
    "y:iris`target"
   ]
  },
  {
   "cell_type": "markdown",
   "metadata": {},
   "source": [
    "## Example 1\n",
    "\n",
    "All of the work which can be done using embedPy is carried out in this example rather than doing the work in Python."
   ]
  },
  {
   "cell_type": "markdown",
   "metadata": {},
   "source": [
    "### Load script"
   ]
  },
  {
   "cell_type": "code",
   "execution_count": 2,
   "metadata": {},
   "outputs": [
    {
     "data": {
      "text/plain": [
       "\"from sklearn.neighbors import KNeighborsClassifier\"\r\n",
       "\"from sklearn.svm import SVC\"\r\n",
       "\"from sklearn.model_selection import cross_val_score\"\r\n",
       "\"from hyperopt import STATUS_OK\"\r\n",
       "\"\"\r\n",
       "\"def f(params):\"\r\n",
       "\"    feat = params['X']\"\r\n",
       "\"    targ = params['y']\"\r\n",
       "\"    del params['X']\"\r\n",
       "\"    del params['y']\"\r\n",
       "\"    if params['clf'] == 'KNeighborsClassifier':\"\r\n",
       "\"        del params['clf']\"\r\n",
       "\"        clf = KNeighborsClassifier(**params)\"\r\n",
       "\"    elif params['clf'] == 'SVC':\"\r\n",
       "\"        del params['clf']\"\r\n",
       "\"        clf = SVC(**params)\"\r\n",
       "\"    else:\"\r\n",
       "\"        return 0\"\r\n",
       "\"    acc = cross_val_score(clf, feat, targ).mean()\"\r\n",
       "\"    return {'loss': -acc, 'status': STATUS_OK}\"\r\n"
      ]
     },
     "execution_count": 2,
     "metadata": {},
     "output_type": "execute_result"
    }
   ],
   "source": [
    "\\l script1.p\n",
    "\\cat script1.p"
   ]
  },
  {
   "cell_type": "markdown",
   "metadata": {},
   "source": [
    "### Imports"
   ]
  },
  {
   "cell_type": "code",
   "execution_count": 3,
   "metadata": {},
   "outputs": [],
   "source": [
    "hyperopt:.p.import`hyperopt\n",
    "hp  :hyperopt`:hp\n",
    "fmin:hyperopt`:fmin\n",
    "tpe :hyperopt`:tpe"
   ]
  },
  {
   "cell_type": "markdown",
   "metadata": {},
   "source": [
    "### K-Nearest Neighbors"
   ]
  },
  {
   "cell_type": "code",
   "execution_count": 4,
   "metadata": {},
   "outputs": [
    {
     "name": "stdout",
     "output_type": "stream",
     "text": [
      "100%|##########| 100/100 [00:02<00:00, 34.12trial/s, best loss: -0.9800000000000001]\n",
      "n_neighbors| 5\n"
     ]
    }
   ],
   "source": [
    "// initialize trials\n",
    "trials:hyperopt[`:Trials][]\n",
    "\n",
    "// parameter space\n",
    "p:`clf`X`y`n_neighbors!(`KNeighborsClassifier;X;y;hp[`:choice][`n_neighbors;1+til 49]`)\n",
    "\n",
    "// find best params\n",
    "show best:fmin[.p.get`f;p;`algo pykw tpe`:suggest;`max_evals pykw 100;`trials pykw trials]`"
   ]
  },
  {
   "cell_type": "markdown",
   "metadata": {},
   "source": [
    "### SVC"
   ]
  },
  {
   "cell_type": "code",
   "execution_count": 5,
   "metadata": {},
   "outputs": [
    {
     "name": "stdout",
     "output_type": "stream",
     "text": [
      "100%|##########| 100/100 [00:07<00:00, 13.54trial/s, best loss: -0.9866666666666667]\n",
      "C     | 1.688095\n",
      "gamma | 14.90348\n",
      "kernel| 0i\n"
     ]
    }
   ],
   "source": [
    "// initialize trials\n",
    "trials:hyperopt[`:Trials][]\n",
    "\n",
    "// parameter space\n",
    "p:`clf`X`y`kernel`C`gamma!\n",
    " (`SVC;X;y;hp[`:choice][`kernel;`linear`sigmoid`poly`rbf]`;hp[`:uniform][`C;0;20]`;hp[`:uniform][`gamma;0;20]`)\n",
    "\n",
    "// find best params\n",
    "show best:fmin[.p.get`f;p;`algo pykw tpe`:suggest;`max_evals pykw 100;`trials pykw trials]`"
   ]
  },
  {
   "cell_type": "markdown",
   "metadata": {},
   "source": [
    "## Example 2\n",
    "\n",
    "All of the work is done on the Python side. A series of checks are performed to find which model to use once the `clf` parameter is passed in."
   ]
  },
  {
   "cell_type": "markdown",
   "metadata": {},
   "source": [
    "### Load script"
   ]
  },
  {
   "cell_type": "code",
   "execution_count": 6,
   "metadata": {},
   "outputs": [
    {
     "data": {
      "text/plain": [
       "\"from sklearn.neighbors import KNeighborsClassifier\"\r\n",
       "\"from sklearn.svm import SVC\"\r\n",
       "\"from sklearn.model_selection import cross_val_score\"\r\n",
       "\"from hyperopt import fmin, tpe, hp, STATUS_OK, Trials\"\r\n",
       "\"\"\r\n",
       "\"def find_best(params):\"\r\n",
       "\"    return fmin(f,upd_params(params),algo=tpe.suggest,max_evals=100,trials=T..\r\n",
       "\"    \"\r\n",
       "\"def upd_params(params):\"\r\n",
       "\"    if 'uniform' in list(params):\"\r\n",
       "\"        for key in list(params['uniform']):\"\r\n",
       "\"            value = params['uniform'][key]\"\r\n",
       "\"            params[key] = hp.uniform(key, value[0], value[1])\"\r\n",
       "\"        del params['uniform']\"\r\n",
       "\"    if 'choice' in list(params):\"\r\n",
       "\"        for key in list(params['choice']):\"\r\n",
       "\"            params[key] = hp.choice(key, params['choice'][key])\"\r\n",
       "\"        del params['choice']\"\r\n",
       "\"    return params\"\r\n",
       "\"\"\r\n",
       "\"def f(params):\"\r\n",
       "\"    X = params['X']\"\r\n",
       "..\r\n"
      ]
     },
     "execution_count": 6,
     "metadata": {},
     "output_type": "execute_result"
    }
   ],
   "source": [
    "\\l script2.p\n",
    "\\cat script2.p"
   ]
  },
  {
   "cell_type": "markdown",
   "metadata": {},
   "source": [
    "### K-Nearest Neighbors"
   ]
  },
  {
   "cell_type": "code",
   "execution_count": 7,
   "metadata": {},
   "outputs": [
    {
     "name": "stdout",
     "output_type": "stream",
     "text": [
      "100%|##########| 100/100 [00:02<00:00, 34.83trial/s, best loss: 0.9266666666666667]\n",
      "n_neighbors| 43\n"
     ]
    }
   ],
   "source": [
    "// parameter space\n",
    "p:`clf`X`y`choice!(`KNeighborsClassifier;X;y;enlist[`n_neighbors]!enlist 1+til 49)\n",
    "\n",
    "// find best params\n",
    "show best:.p.get[`find_best][p]`"
   ]
  },
  {
   "cell_type": "markdown",
   "metadata": {},
   "source": [
    "### SVC"
   ]
  },
  {
   "cell_type": "code",
   "execution_count": 8,
   "metadata": {},
   "outputs": [
    {
     "name": "stdout",
     "output_type": "stream",
     "text": [
      "100%|##########| 100/100 [00:09<00:00, 10.99trial/s, best loss: 0.3333333333333333]\n",
      "C     | 3.277146\n",
      "gamma | 18.87107\n",
      "kernel| 1i\n"
     ]
    }
   ],
   "source": [
    "// parameter space\n",
    "p:`clf`X`y`choice`uniform!\n",
    " (`SVC;X;y;enlist[`kernel]!enlist`linear`sigmoid`poly`rbf;`C`gamma!(0 20;0 20))\n",
    "\n",
    "// find best params\n",
    "show best:.p.get[`find_best][p]`"
   ]
  },
  {
   "cell_type": "markdown",
   "metadata": {},
   "source": [
    "## Example 3\n",
    "\n",
    "Nearly the same as example 2 in that everything is done on the python side. The only difference here is that we pass in the model we want as a forgein object so that we don't need to run checks on the Python side."
   ]
  },
  {
   "cell_type": "code",
   "execution_count": 9,
   "metadata": {},
   "outputs": [
    {
     "data": {
      "text/plain": [
       "\"from sklearn.model_selection import cross_val_score\"\r\n",
       "\"from hyperopt import fmin, tpe, hp, STATUS_OK, Trials\"\r\n",
       "\"\"\r\n",
       "\"def find_best(params):\"\r\n",
       "\"    return fmin(f,upd_params(params),algo=tpe.suggest,max_evals=100,trials=T..\r\n",
       "\"    \"\r\n",
       "\"def upd_params(params):\"\r\n",
       "\"    if 'uniform' in list(params):\"\r\n",
       "\"        for key in list(params['uniform']):\"\r\n",
       "\"            value = params['uniform'][key]\"\r\n",
       "\"            params[key] = hp.uniform(key, value[0], value[1])\"\r\n",
       "\"        del params['uniform']\"\r\n",
       "\"    if 'choice' in list(params):\"\r\n",
       "\"        for key in list(params['choice']):\"\r\n",
       "\"            params[key] = hp.choice(key, params['choice'][key])\"\r\n",
       "\"        del params['choice']\"\r\n",
       "\"    return params\"\r\n",
       "\"\"\r\n",
       "\"def f(params):\"\r\n",
       "\"    X = params['X']\"\r\n",
       "\"    y = params['y']\"\r\n",
       "\"    mdl = params['mdl']\"\r\n",
       "..\r\n"
      ]
     },
     "execution_count": 9,
     "metadata": {},
     "output_type": "execute_result"
    }
   ],
   "source": [
    "\\l script3.p\n",
    "\\cat script3.p"
   ]
  },
  {
   "cell_type": "markdown",
   "metadata": {},
   "source": [
    "### K-Nearest Neighbors"
   ]
  },
  {
   "cell_type": "code",
   "execution_count": 10,
   "metadata": {},
   "outputs": [
    {
     "name": "stdout",
     "output_type": "stream",
     "text": [
      "n_neighbors| 47\r\n"
     ]
    }
   ],
   "source": [
    "// model to use as foreign object\n",
    "KNC:.p.import[`sklearn.neighbors;`:KNeighborsClassifier]`\n",
    "\n",
    "// parameter space\n",
    "p:`mdl`X`y`choice!(KNC;X;y;enlist[`n_neighbors]!enlist 1+til 49)\n",
    "\n",
    "// find best params\n",
    "show best:.p.get[`find_best][p]`"
   ]
  },
  {
   "cell_type": "markdown",
   "metadata": {},
   "source": [
    "#### SVC"
   ]
  },
  {
   "cell_type": "code",
   "execution_count": 11,
   "metadata": {},
   "outputs": [
    {
     "name": "stdout",
     "output_type": "stream",
     "text": [
      "C     | 12.61301\r\n",
      "gamma | 0.4663341\r\n",
      "kernel| 1i\r\n"
     ]
    }
   ],
   "source": [
    "// model to use as foreign object\n",
    "SVC:.p.import[`sklearn.svm;`:SVC]`\n",
    "\n",
    "// parameter space\n",
    "p:`mdl`X`y`choice`uniform!\n",
    "  (SVC;X;y;enlist[`kernel]!enlist`linear`sigmoid`poly`rbf;`C`gamma!(0 20;0 20))\n",
    "\n",
    "// find best params\n",
    "show best:.p.get[`find_best][p]`"
   ]
  },
  {
   "cell_type": "markdown",
   "metadata": {},
   "source": [
    "## Discussion"
   ]
  },
  {
   "cell_type": "markdown",
   "metadata": {},
   "source": [
    "Example 3 is the most generalizable when it comes to automl - we can pass import the best type of model produced in the previous steps and run it on a range of parameters - this could come from a flat file. The rest of the heavy lifting is done on the Python side due to the format required to use the hyperopt `fmin` function."
   ]
  },
  {
   "cell_type": "markdown",
   "metadata": {},
   "source": [
    "---"
   ]
  }
 ],
 "metadata": {
  "kernelspec": {
   "display_name": "Q (kdb+)",
   "language": "q",
   "name": "qpk"
  },
  "language_info": {
   "file_extension": ".q",
   "mimetype": "text/x-q",
   "name": "q",
   "version": "3.6.0"
  }
 },
 "nbformat": 4,
 "nbformat_minor": 4
}
