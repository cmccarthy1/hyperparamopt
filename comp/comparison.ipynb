{
 "cells": [
  {
   "cell_type": "markdown",
   "metadata": {},
   "source": [
    "---"
   ]
  },
  {
   "cell_type": "markdown",
   "metadata": {},
   "source": [
    "### Sklearn datasets\n",
    "\n",
    "```q\n",
    "skds:.p.import`sklearn.datasets\n",
    "bc:skds`:load_breast_cancer\n",
    "bh:skds`:load_boston\n",
    "ir:skds`:load_iris\n",
    "```"
   ]
  },
  {
   "cell_type": "markdown",
   "metadata": {},
   "source": [
    "---"
   ]
  },
  {
   "cell_type": "markdown",
   "metadata": {},
   "source": [
    "### Comparison version 1\n",
    "\n",
    "This version uses standard grid, random and sobol search and makes use of the cross validation functionality available within `BayesSearchCV`."
   ]
  },
  {
   "cell_type": "code",
   "execution_count": null,
   "metadata": {},
   "outputs": [],
   "source": [
    "// load xv library\n",
    "\\l xval_updated.q\n",
    "\n",
    "// import data\n",
    "d:k!.p.import[`sklearn.datasets][`:load_iris;<][0]k:`data`target\n",
    "\n",
    "// import python libraries for bayesian\n",
    "bsCV:.p.import[`skopt]`:BayesSearchCV\n",
    "re :.p.import[`skopt.space]`:Real\n",
    "cat:.p.import[`skopt.space]`:Categorical\n",
    "SGD:.p.import[`sklearn.linear_model]`:SGDClassifier\n",
    "\n",
    "// BayesianSearchCV\n",
    ".ml.bs.bsCV:{[d;clf;hp;k;n;seed;sz]\n",
    " data:.ml.traintestsplit[;;sz]. d;\n",
    " opt:.p.import[`skopt][`:BayesSearchCV][clf;hp;`cv pykw k;`n_iter pykw n;`random_state pykw seed];\n",
    " r:(enlist[`random_state]!enlist seed),opt[`:fit][data`xtrain;data`ytrain][`:best_params_]`;\n",
    " (r;opt[`:score][data`xtest;data`ytest]`)}\n",
    "\n",
    "// set parameters - random\n",
    "p:`k`n`test!(5;3;0.2)\n",
    "s:.ml.xv.fitscore a:{.p.import[`sklearn.linear_model]`:SGDClassifier}\n",
    "trials:1024\n",
    "\n",
    "// Bayesian search hyper parameter spaces\n",
    "bsCV_hp:`average`l1_ratio`alpha!\n",
    "  (cat[01b]`;re[0;1;`prior pykw\"uniform\"]`;re[.00001;100;`prior pykw\"log-uniform\"]`)\n",
    "\n",
    "// grid hyperparameter space\n",
    "gs_01_gen:{((0.,(1_til x-1)*10%x-1),10.)%10}\n",
    "gshp:`random_state`average`l1_ratio`alpha!(42;01b;gs_01_gen 16;xexp[10](gs_01_gen[32]*7)-5)\n",
    "\n",
    "// random hyperparameter space and random/sobol parameters\n",
    "rshp:`average`l1_ratio`alpha!(`boolean;(`uniform;0;1;\"f\");(`loguniform;-5;2;\"f\"))\n",
    "prdm:`typ`random_state`n`p!(`random;45;trials;rshp)\n",
    "psbl:`typ`random_state`n`p!(`sobol ;72;trials;rshp)\n",
    "\n",
    "\\S 24\n",
    "\\ts show res_bs_bsCV    :.ml.bs.bsCV[value d;SGD[];bsCV_hp;5;3;42;.2]\n",
    "\\ts show res_gs :-2#.ml.gs.kfsplit[p`k;p`n;d`data;d`target;s;gshp;p`test]\n",
    "\\ts show res_rdm:-2#.ml.rs.kfsplit[p`k;p`n;d`data;d`target;s;prdm;p`test]\n",
    "\\ts show res_sbl:-2#.ml.rs.kfsplit[p`k;p`n;d`data;d`target;s;psbl;p`test]"
   ]
  },
  {
   "cell_type": "markdown",
   "metadata": {},
   "source": [
    "---"
   ]
  },
  {
   "cell_type": "markdown",
   "metadata": {},
   "source": [
    "### Comparison version 2\n",
    "\n",
    "This version uses the same grid, random and sobol search methods, while explicitly splitting the data into a training set with k folds and a holdout set and running the classifier for each fold in the case of bayesian search."
   ]
  },
  {
   "cell_type": "code",
   "execution_count": null,
   "metadata": {},
   "outputs": [],
   "source": [
    "// load new xv and bayesian functions \n",
    "\\l xval_updated.q\n",
    "\n",
    "// python imports for bayesian search\n",
    "re :.p.import[`skopt.space]`:Real\n",
    "cat:.p.import[`skopt.space]`:Categorical\n",
    "SGD:.p.import[`sklearn.linear_model]`:SGDClassifier\n",
    "\n",
    "// set random seed\n",
    "\\S 24\n",
    "seed:24\n",
    "\n",
    "// set xv params\n",
    "p:`seed`k`n`test`trials!(24;5;1;.2;1024)\n",
    "\n",
    "// import iris dataset \n",
    "d:k!.p.import[`sklearn.datasets][`:load_iris;<][0]k:`data`target\n",
    "\n",
    "// split data for bayesian in same way as xv/gs/rs - 5 fold cv + 20% holdout\n",
    "holdout  :.ml.traintestsplit[;;p`test]. value d;\n",
    "splitdata:raze(.ml.xv.i.idxR . .ml.xv.i`splitidx`groupidx)[p`k;p`n]. holdout`xtrain`ytrain\n",
    "\n",
    "// gs scoring func\n",
    "s:.ml.xv.fitscore a:{.p.import[`sklearn.linear_model]`:SGDClassifier}\n",
    "\n",
    "// bayesian search CV\n",
    ".ml.bs.bsCV:{[clf;kfolds;hld;hp;seed]\n",
    " // optimizer\n",
    " opt:.p.import[`skopt][`:BayesSearchCV][clf[];hp;`random_state pykw seed];\n",
    " // find best parameter set for each fold\n",
    " r:{bst:(x[`:fit]. first y[])[`:best_params_]`;(bst;(x[`:score]. last y[])`)}[opt]each kfolds;\n",
    " // find best parameter set across k folds\n",
    " best:(enlist[`random_state]!enlist seed),r[;0].ml.imax r[;1];\n",
    " // train on entire set of k folds\n",
    " clf:(SGD pykwargs@)best;clf[`:fit]. hld`xtrain`ytrain;\n",
    " // test on holdout set\n",
    " (best;(clf[`:score]. hld`xtest`ytest)`)}\n",
    "\n",
    "// grid hp\n",
    "gs_01_gen:{((0.,(1_til x-1)*10%x-1),10.)%10}\n",
    "gshp:`random_state`average`l1_ratio`alpha!(seed;01b;gs_01_gen 16;xexp[10](gs_01_gen[32]*7)-5)\n",
    "\n",
    "// random/sobol hp\n",
    "rshp:`average`l1_ratio`alpha!(`boolean;(`uniform;0;1;\"f\");(`loguniform;-5;2;\"f\"))\n",
    "prdm:`typ`random_state`n`p!(`random;p`seed;p`trials;rshp)\n",
    "psbl:`typ`random_state`n`p!(`sobol ;p`seed;p`trials;rshp)\n",
    "\n",
    "// bayesian search CV hp\n",
    "bsCV_hp:`average`l1_ratio`alpha!\n",
    "  (cat[01b]`;re[0;1;`prior pykw\"uniform\"]`;re[.00001;100;`prior pykw\"log-uniform\"]`)\n",
    "\n",
    "// run grid, random and sobol search\n",
    "\\ts show res_bscv:.ml.bs.bsCV[SGD;splitdata;holdout;bsCV_hp;42]\n",
    "\\ts show res_gs :-2#.ml.gs.kfsplit[p`k;p`n;d`data;d`target;s;gshp;p`test]\n",
    "\\ts show res_rdm:-2#.ml.rs.kfsplit[p`k;p`n;d`data;d`target;s;prdm;p`test]\n",
    "\\ts show res_sbl:-2#.ml.rs.kfsplit[p`k;p`n;d`data;d`target;s;psbl;p`test]"
   ]
  },
  {
   "cell_type": "markdown",
   "metadata": {},
   "source": [
    "---"
   ]
  },
  {
   "cell_type": "markdown",
   "metadata": {},
   "source": [
    "### Additional functionality\n",
    "\n",
    "I also researched using the `hyperopt` method of hyperparameter optimization. This method did not allow for the same running and scoring as the other methods and has therefore been omitted from the scripts above."
   ]
  },
  {
   "cell_type": "code",
   "execution_count": null,
   "metadata": {},
   "outputs": [],
   "source": [
    "\\l ../bayesian/script3.p\n",
    "\n",
    ".ml.bs.hyperopt:{[d;clf;hp]\n",
    "  data:.ml.traintestsplit[;;.2]. d;\n",
    "  hp,:`X`y`mdl!(data`xtrain;data`ytrain;clf`.);\n",
    "  best:.p.get[`find_best][hp]`;\n",
    "  mdl:(clf pykwargs@)best;\n",
    "  mdl[`:fit]. data`xtrain`ytrain;\n",
    "  (best;mdl[`:score][data`xtest;data`ytest]`)}\n",
    "\n",
    "hyperopt_hp:`choice`uniform`loguniform!\n",
    " (enlist[`average]!enlist 01b;enlist[`l1_ratio]!enlist 0 1;enlist[`alpha]!enlist .00001 100)\n",
    "\n",
    "\\ts show res_bs_hyperopt:.ml.bs.hyperopt[value d;SGD;hyperopt_hp]"
   ]
  },
  {
   "cell_type": "markdown",
   "metadata": {},
   "source": [
    "---"
   ]
  },
  {
   "cell_type": "code",
   "execution_count": 1,
   "metadata": {},
   "outputs": [],
   "source": [
    "\\l hpopt_results.q"
   ]
  },
  {
   "cell_type": "code",
   "execution_count": 2,
   "metadata": {},
   "outputs": [
    {
     "name": "stdout",
     "output_type": "stream",
     "text": [
      "Running comparison\n",
      "Plotting results\n",
      "Saving results\n",
      "Comparison complete, see outputs/\n"
     ]
    }
   ],
   "source": [
    "fin  :\"../random/test_data.csv\"  / works with any csv containing a kdb table\n",
    "fout :\"results\"   / works with any name\n",
    "dtype:\"FFFFFIB\"\n",
    "targ :`x6\n",
    "param:`seed`k`n`test`trials!(42;5;1;.2;1024)  / current working parameters\n",
    ".ml.save_hpopt_res[fin;fout;dtype;targ;param];"
   ]
  },
  {
   "cell_type": "code",
   "execution_count": 3,
   "metadata": {},
   "outputs": [
    {
     "data": {
      "text/plain": [
       "alpha        average fold_score                            l1_ratio  method  ..\r\n",
       "-----------------------------------------------------------------------------..\r\n",
       "0.02438354   0       1       0.99375 0.58125 1       1     0         grid    ..\r\n",
       "0.0003729849 0       1       0.99375 0.8125  1       1     0.4863586 random  ..\r\n",
       "0.0001647392 0       1       0.975   0.95    1       1     0.3925781 sobol   ..\r\n",
       "0.01957704   0       0.93125 0.975   0.9375  0.98125 0.925 0.9920007 bayesian..\r\n"
      ]
     },
     "execution_count": 3,
     "metadata": {},
     "output_type": "execute_result"
    }
   ],
   "source": [
    ".ml.load_hpopt_res[\"outputs/files/\";\"results.txt\"]"
   ]
  }
 ],
 "metadata": {
  "kernelspec": {
   "display_name": "Q (kdb+)",
   "language": "q",
   "name": "qpk"
  },
  "language_info": {
   "file_extension": ".q",
   "mimetype": "text/x-q",
   "name": "q",
   "version": "3.6.0"
  }
 },
 "nbformat": 4,
 "nbformat_minor": 4
}
