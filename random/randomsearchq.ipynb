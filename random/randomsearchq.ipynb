{
 "cells": [
  {
   "cell_type": "markdown",
   "metadata": {},
   "source": [
    "# Random Hyperparameter Optimization\n",
    "\n",
    "Below demonstrates how to used the kdb+/q implementation for random search. Both pseudo-random and Sobol-random numbers can be used."
   ]
  },
  {
   "cell_type": "markdown",
   "metadata": {},
   "source": [
    "### Load in new xval script\n",
    "\n",
    "The script contains updates to `xval.q` contained within the Kx ML-Toolkit, along with new random hyperparameter generation functions."
   ]
  },
  {
   "cell_type": "code",
   "execution_count": 1,
   "metadata": {},
   "outputs": [],
   "source": [
    "\\l xval_updated.q"
   ]
  },
  {
   "cell_type": "markdown",
   "metadata": {},
   "source": [
    "### Example\n",
    "\n",
    "In the example below, we show how to use `.ml.rs.kfsplit` for both pseudo- and Sobol-random numbers."
   ]
  },
  {
   "cell_type": "code",
   "execution_count": 2,
   "metadata": {},
   "outputs": [
    {
     "name": "stdout",
     "output_type": "stream",
     "text": [
      "0.25 0.73 0.07333333 0.71 0.9\n"
     ]
    },
    {
     "data": {
      "text/plain": [
       "average | 0b\r\n",
       "l1_ratio| 0.6270012\r\n",
       "alpha   | 0.006966488\r\n"
      ]
     },
     "execution_count": 2,
     "metadata": {},
     "output_type": "execute_result"
    },
    {
     "name": "stdout",
     "output_type": "stream",
     "text": [
      "0.2533333 0.6966667 0.1633333 0.8033333 0.82\n"
     ]
    },
    {
     "data": {
      "text/plain": [
       "average | 1b\r\n",
       "l1_ratio| 0.875\r\n",
       "alpha   | 13.33521\r\n"
      ]
     },
     "execution_count": 2,
     "metadata": {},
     "output_type": "execute_result"
    }
   ],
   "source": [
    "// number of folds, repetitions and testing size\n",
    "k:5\n",
    "n:1\n",
    "tst:0\n",
    "\n",
    "// data\n",
    "iris:.p.import[`sklearn.datasets][`:load_iris][0]`\n",
    "X:iris`data\n",
    "y:iris`target\n",
    "\n",
    "// algo function\n",
    "alg:{.p.import[`sklearn.linear_model]`:SGDClassifier}\n",
    "\n",
    "// scoring function - waiting on parameters and data\n",
    "scf:.ml.xv.fitscore alg\n",
    "\n",
    "// hyperparameter space\n",
    "hpspace:`average`l1_ratio`alpha!(`boolean;(`uniform;0;1;\"f\");(`loguniform;-5;2;\"f\"))\n",
    "\n",
    "// random parameters for .ml.rs.hpgen\n",
    "prdm:`typ`seed`n`p!(`random;45;10;hpspace)\n",
    "psbl:`typ`seed`n`p!(`sobol ;72;10;hpspace)\n",
    "\n",
    "key[r]{x?max x}0N!avg r:.ml.rs.kfsplit[k;n;X;y;scf;prdm;tst]\n",
    "key[r]{x?max x}0N!avg r:.ml.rs.kfsplit[k;n;X;y;scf;psbl;tst]"
   ]
  },
  {
   "cell_type": "markdown",
   "metadata": {},
   "source": [
    "Python example:\n",
    "https://scikit-learn.org/stable/auto_examples/model_selection/plot_randomized_search.html"
   ]
  },
  {
   "cell_type": "markdown",
   "metadata": {},
   "source": [
    "---"
   ]
  }
 ],
 "metadata": {
  "kernelspec": {
   "display_name": "Q (kdb+)",
   "language": "q",
   "name": "qpk"
  },
  "language_info": {
   "file_extension": ".q",
   "mimetype": "text/x-q",
   "name": "q",
   "version": "3.6.0"
  }
 },
 "nbformat": 4,
 "nbformat_minor": 4
}
