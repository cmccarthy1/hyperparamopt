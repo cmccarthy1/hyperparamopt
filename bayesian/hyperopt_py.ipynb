{
 "cells": [
  {
   "cell_type": "markdown",
   "metadata": {},
   "source": [
    "# HyperOpt\n",
    "## Python implementation\n",
    "\n",
    "Info: https://github.com/hyperopt/hyperopt"
   ]
  },
  {
   "cell_type": "markdown",
   "metadata": {},
   "source": [
    "### Imports"
   ]
  },
  {
   "cell_type": "code",
   "execution_count": 1,
   "metadata": {},
   "outputs": [],
   "source": [
    "from sklearn import datasets\n",
    "from sklearn.neighbors import KNeighborsClassifier\n",
    "from sklearn.svm import SVC\n",
    "from sklearn.model_selection import cross_val_score\n",
    "from hyperopt import fmin, tpe, hp, STATUS_OK, Trials"
   ]
  },
  {
   "cell_type": "markdown",
   "metadata": {},
   "source": [
    "### Data"
   ]
  },
  {
   "cell_type": "code",
   "execution_count": 2,
   "metadata": {},
   "outputs": [],
   "source": [
    "iris = datasets.load_iris()\n",
    "X = iris.data\n",
    "y = iris.target"
   ]
  },
  {
   "cell_type": "markdown",
   "metadata": {},
   "source": [
    "## Example 1: K-Nearest Neighbors"
   ]
  },
  {
   "cell_type": "markdown",
   "metadata": {},
   "source": [
    "### Parameter space"
   ]
  },
  {
   "cell_type": "code",
   "execution_count": 3,
   "metadata": {},
   "outputs": [],
   "source": [
    "space4knn = {'X': X, 'y': y, 'n_neighbors': hp.choice('n_neighbors', range(1,50))}"
   ]
  },
  {
   "cell_type": "markdown",
   "metadata": {},
   "source": [
    "### Search function"
   ]
  },
  {
   "cell_type": "code",
   "execution_count": 4,
   "metadata": {},
   "outputs": [],
   "source": [
    "def f(params):\n",
    "    feat = params['X']\n",
    "    targ = params['y']\n",
    "    del params['X']\n",
    "    del params['y']\n",
    "    clf = KNeighborsClassifier(**params)\n",
    "    acc = cross_val_score(clf, feat, targ).mean()\n",
    "    return {'loss': -acc, 'status': STATUS_OK}"
   ]
  },
  {
   "cell_type": "markdown",
   "metadata": {},
   "source": [
    "### Find best parameters"
   ]
  },
  {
   "cell_type": "code",
   "execution_count": 5,
   "metadata": {},
   "outputs": [
    {
     "name": "stdout",
     "output_type": "stream",
     "text": [
      "100%|█████████████████████████████████████████████| 100/100 [00:01<00:00, 55.86trial/s, best loss: -0.9800000000000001]\n",
      "best:\n",
      "{'n_neighbors': 5}\n"
     ]
    }
   ],
   "source": [
    "trials = Trials()\n",
    "best = fmin(f, space4knn, algo=tpe.suggest, max_evals=100, trials=trials)\n",
    "print('best:')\n",
    "print(best)"
   ]
  },
  {
   "cell_type": "markdown",
   "metadata": {},
   "source": [
    "## Example 2: SVC"
   ]
  },
  {
   "cell_type": "markdown",
   "metadata": {},
   "source": [
    "### Parameter space"
   ]
  },
  {
   "cell_type": "code",
   "execution_count": 6,
   "metadata": {},
   "outputs": [],
   "source": [
    "space4svm = {'X': X, 'y': y, 'C': hp.uniform('C', 0, 20),\n",
    "             'kernel': hp.choice('kernel', ['linear', 'sigmoid', 'poly', 'rbf']), \n",
    "             'gamma': hp.uniform('gamma', 0, 20)}"
   ]
  },
  {
   "cell_type": "markdown",
   "metadata": {},
   "source": [
    "### Search function"
   ]
  },
  {
   "cell_type": "code",
   "execution_count": 7,
   "metadata": {},
   "outputs": [],
   "source": [
    "def f(params):\n",
    "    feat = params['X']\n",
    "    targ = params['y']\n",
    "    del params['X']\n",
    "    del params['y']\n",
    "    clf = SVC(**params)\n",
    "    acc =  cross_val_score(clf, X, y).mean()\n",
    "    return {'loss': -acc, 'status': STATUS_OK}"
   ]
  },
  {
   "cell_type": "markdown",
   "metadata": {},
   "source": [
    "### Find best parameters"
   ]
  },
  {
   "cell_type": "code",
   "execution_count": 8,
   "metadata": {},
   "outputs": [
    {
     "name": "stdout",
     "output_type": "stream",
     "text": [
      "100%|█████████████████████████████████████████████| 100/100 [00:07<00:00, 14.08trial/s, best loss: -0.9866666666666667]\n",
      "best:\n",
      "{'C': 0.8695689763318962, 'gamma': 13.348136150054389, 'kernel': 0}\n"
     ]
    }
   ],
   "source": [
    "trials = Trials()\n",
    "best = fmin(f, space4svm, algo=tpe.suggest, max_evals=100, trials=trials)\n",
    "print('best:')\n",
    "print(best)"
   ]
  },
  {
   "cell_type": "markdown",
   "metadata": {},
   "source": [
    "## Example 3: Any model"
   ]
  },
  {
   "cell_type": "code",
   "execution_count": 9,
   "metadata": {},
   "outputs": [],
   "source": [
    "space4svm_new = {'X': X, 'y': y, 'C': hp.uniform('C', 0, 20),\n",
    "                 'kernel': hp.choice('kernel', ['linear', 'sigmoid', 'poly', 'rbf']), \n",
    "                 'gamma': hp.uniform('gamma', 0, 20), 'mdl': SVC}"
   ]
  },
  {
   "cell_type": "code",
   "execution_count": 10,
   "metadata": {},
   "outputs": [],
   "source": [
    "def f(params):\n",
    "    feat = params['X']\n",
    "    targ = params['y']\n",
    "    mdl = params['mdl']\n",
    "    del params['X']\n",
    "    del params['y']\n",
    "    del params['mdl']\n",
    "    acc =  cross_val_score(mdl(**params), X, y).mean()\n",
    "    return {'loss': -acc, 'status': STATUS_OK}"
   ]
  },
  {
   "cell_type": "code",
   "execution_count": 11,
   "metadata": {},
   "outputs": [
    {
     "name": "stdout",
     "output_type": "stream",
     "text": [
      "100%|█████████████████████████████████████████████| 100/100 [00:06<00:00, 15.51trial/s, best loss: -0.9866666666666667]\n",
      "best:\n",
      "{'C': 1.6613856319856457, 'gamma': 11.0082153504827, 'kernel': 0}\n"
     ]
    }
   ],
   "source": [
    "trials = Trials()\n",
    "best = fmin(f, space4svm_new, algo=tpe.suggest, max_evals=100, trials=trials)\n",
    "print('best:')\n",
    "print(best)"
   ]
  },
  {
   "cell_type": "markdown",
   "metadata": {},
   "source": [
    "---"
   ]
  }
 ],
 "metadata": {
  "kernelspec": {
   "display_name": "Python 3",
   "language": "python",
   "name": "python3"
  },
  "language_info": {
   "codemirror_mode": {
    "name": "ipython",
    "version": 3
   },
   "file_extension": ".py",
   "mimetype": "text/x-python",
   "name": "python",
   "nbconvert_exporter": "python",
   "pygments_lexer": "ipython3",
   "version": "3.7.6"
  }
 },
 "nbformat": 4,
 "nbformat_minor": 4
}
